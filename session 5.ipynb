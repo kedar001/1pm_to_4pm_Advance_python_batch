{
 "cells": [
  {
   "cell_type": "markdown",
   "id": "4a10aeec",
   "metadata": {},
   "source": [
    "# *args, **kwargs"
   ]
  },
  {
   "cell_type": "code",
   "execution_count": 2,
   "id": "e6d3699b",
   "metadata": {},
   "outputs": [],
   "source": [
    "# calculate area of rectangle"
   ]
  },
  {
   "cell_type": "code",
   "execution_count": 8,
   "id": "2a1b5534",
   "metadata": {},
   "outputs": [],
   "source": [
    "def area_of_rect(l,b):\n",
    "    aor=l*b\n",
    "    print(\"Area of rectangle=\",aor)"
   ]
  },
  {
   "cell_type": "code",
   "execution_count": 9,
   "id": "bddef426",
   "metadata": {},
   "outputs": [
    {
     "name": "stdout",
     "output_type": "stream",
     "text": [
      "Area of rectangle= 12\n"
     ]
    }
   ],
   "source": [
    "area_of_rect(3,4)"
   ]
  },
  {
   "cell_type": "code",
   "execution_count": 10,
   "id": "bca56bac",
   "metadata": {},
   "outputs": [
    {
     "name": "stdout",
     "output_type": "stream",
     "text": [
      "Area of rectangle= 300\n"
     ]
    }
   ],
   "source": [
    "area_of_rect(10,30)"
   ]
  },
  {
   "cell_type": "code",
   "execution_count": 11,
   "id": "24ad96f3",
   "metadata": {},
   "outputs": [],
   "source": [
    "# *args"
   ]
  },
  {
   "cell_type": "code",
   "execution_count": 12,
   "id": "9f9ddd91",
   "metadata": {},
   "outputs": [],
   "source": [
    "# sum of all  value present in aparameter"
   ]
  },
  {
   "cell_type": "code",
   "execution_count": 13,
   "id": "ff6db259",
   "metadata": {},
   "outputs": [],
   "source": [
    "def cal_sum(*args):\n",
    "    sum=0\n",
    "    for i in args:\n",
    "        sum=sum+i\n",
    "    return f\"sum of all values={sum}\"    "
   ]
  },
  {
   "cell_type": "code",
   "execution_count": 16,
   "id": "827533b6",
   "metadata": {},
   "outputs": [],
   "source": [
    "def cal_sum(*args):\n",
    "    sum=0\n",
    "    for i in args:\n",
    "        sum=sum+i #\n",
    "    return f\"sum of all values={sum}\""
   ]
  },
  {
   "cell_type": "code",
   "execution_count": 17,
   "id": "9f51cbdf",
   "metadata": {},
   "outputs": [
    {
     "data": {
      "text/plain": [
       "'sum of all values=9'"
      ]
     },
     "execution_count": 17,
     "metadata": {},
     "output_type": "execute_result"
    }
   ],
   "source": [
    "cal_sum(2,3,4)"
   ]
  },
  {
   "cell_type": "code",
   "execution_count": 18,
   "id": "62bb6e5f",
   "metadata": {},
   "outputs": [
    {
     "data": {
      "text/plain": [
       "'sum of all values=135'"
      ]
     },
     "execution_count": 18,
     "metadata": {},
     "output_type": "execute_result"
    }
   ],
   "source": [
    "cal_sum(4,5,6,7,12,34,67)"
   ]
  },
  {
   "cell_type": "code",
   "execution_count": 20,
   "id": "8413c4cb",
   "metadata": {},
   "outputs": [],
   "source": [
    "lst=[4,5,6,7.10,20,30,40,50]"
   ]
  },
  {
   "cell_type": "code",
   "execution_count": 21,
   "id": "90fb0068",
   "metadata": {},
   "outputs": [
    {
     "data": {
      "text/plain": [
       "'sum of all values=162.1'"
      ]
     },
     "execution_count": 21,
     "metadata": {},
     "output_type": "execute_result"
    }
   ],
   "source": [
    "# list unpacking\n",
    "cal_sum(*lst)"
   ]
  },
  {
   "cell_type": "code",
   "execution_count": 22,
   "id": "89c9d3da",
   "metadata": {},
   "outputs": [],
   "source": [
    "# **kwargs"
   ]
  },
  {
   "cell_type": "code",
   "execution_count": 23,
   "id": "7a10cdba",
   "metadata": {},
   "outputs": [],
   "source": [
    "def display_data(**kwargs): #{\"key\":\"values\"}\n",
    "    print(f\"values: {kwargs}\")"
   ]
  },
  {
   "cell_type": "code",
   "execution_count": 24,
   "id": "4de5b173",
   "metadata": {},
   "outputs": [
    {
     "name": "stdout",
     "output_type": "stream",
     "text": [
      "values: {'name': 'prashant', 'age': 21, 'salary': 20000}\n"
     ]
    }
   ],
   "source": [
    "display_data(name=\"prashant\",age=21,salary=20000)"
   ]
  },
  {
   "cell_type": "code",
   "execution_count": 25,
   "id": "2bc87a13",
   "metadata": {},
   "outputs": [],
   "source": [
    "values:{'name':'prashant','age':21,'salary':20000}"
   ]
  },
  {
   "cell_type": "code",
   "execution_count": 40,
   "id": "fa7bb21d",
   "metadata": {},
   "outputs": [],
   "source": [
    "menu={\n",
    "    \"pizza\":250,\n",
    "    \"maggie\":50,\n",
    "    \"noodles\":150,\n",
    "    \"burger\":70,\n",
    "    \"coffee\":50,\n",
    "    \"tea\":20\n",
    "}"
   ]
  },
  {
   "cell_type": "code",
   "execution_count": 27,
   "id": "4a5fcd89",
   "metadata": {},
   "outputs": [
    {
     "data": {
      "text/plain": [
       "dict_keys(['pizza', 'maggie', 'noodles', 'burgers'])"
      ]
     },
     "execution_count": 27,
     "metadata": {},
     "output_type": "execute_result"
    }
   ],
   "source": [
    "menu.keys()"
   ]
  },
  {
   "cell_type": "code",
   "execution_count": 28,
   "id": "a5f12c2e",
   "metadata": {},
   "outputs": [
    {
     "data": {
      "text/plain": [
       "dict_values([250, 50, 150, 70])"
      ]
     },
     "execution_count": 28,
     "metadata": {},
     "output_type": "execute_result"
    }
   ],
   "source": [
    "menu.values()"
   ]
  },
  {
   "cell_type": "code",
   "execution_count": 29,
   "id": "b2bdc2e0",
   "metadata": {},
   "outputs": [
    {
     "data": {
      "text/plain": [
       "250"
      ]
     },
     "execution_count": 29,
     "metadata": {},
     "output_type": "execute_result"
    }
   ],
   "source": [
    "menu.get(\"pizza\")"
   ]
  },
  {
   "cell_type": "code",
   "execution_count": null,
   "id": "2f03e8b4",
   "metadata": {},
   "outputs": [
    {
     "data": {
      "text/plain": [
       "70"
      ]
     },
     "execution_count": 31,
     "metadata": {},
     "output_type": "execute_result"
    }
   ],
   "source": [
    "menu.get(\"burger\")"
   ]
  },
  {
   "cell_type": "code",
   "execution_count": 34,
   "id": "78f1155a",
   "metadata": {},
   "outputs": [],
   "source": [
    "# perform billing for a restaurent"
   ]
  },
  {
   "cell_type": "code",
   "execution_count": 35,
   "id": "7d11d209",
   "metadata": {},
   "outputs": [],
   "source": [
    "def display_data(**kwargs): #{\"key\":\"values\"}\n",
    "    print(f\"values: {kwargs}\")"
   ]
  },
  {
   "cell_type": "code",
   "execution_count": 52,
   "id": "14a86807",
   "metadata": {},
   "outputs": [],
   "source": [
    "def restaurent_billing(**kwargs):\n",
    "    bill=0\n",
    "    for food,qty in kwargs.items():\n",
    "        amt=menu.get(food)*qty\n",
    "        bill=bill+amt\n",
    "        print(f\"Food:{food},Quntity:{qty},amount:{amt}\")\n",
    "    return f\"Total bill={bill}\""
   ]
  },
  {
   "cell_type": "code",
   "execution_count": 53,
   "id": "b52cda88",
   "metadata": {},
   "outputs": [
    {
     "name": "stdout",
     "output_type": "stream",
     "text": [
      "Food:burger,Quntity:2,amount:140\n",
      "Food:coffee,Quntity:3,amount:150\n",
      "Food:tea,Quntity:3,amount:60\n"
     ]
    },
    {
     "data": {
      "text/plain": [
       "'Total bill=350'"
      ]
     },
     "execution_count": 53,
     "metadata": {},
     "output_type": "execute_result"
    }
   ],
   "source": [
    "restaurent_billing(burger=2,coffee=3,tea=3)"
   ]
  },
  {
   "cell_type": "code",
   "execution_count": 54,
   "id": "2a36ab18",
   "metadata": {},
   "outputs": [],
   "source": [
    "# GENERATOR FUNCTION"
   ]
  },
  {
   "cell_type": "code",
   "execution_count": 56,
   "id": "36f564d7",
   "metadata": {},
   "outputs": [],
   "source": [
    "# 0,1,1,2,3,5,8,13,21"
   ]
  },
  {
   "cell_type": "code",
   "execution_count": 59,
   "id": "9dbb2711",
   "metadata": {},
   "outputs": [
    {
     "name": "stdout",
     "output_type": "stream",
     "text": [
      "1\n",
      "2\n",
      "3\n",
      "4\n",
      "5\n",
      "6\n",
      "7\n",
      "8\n",
      "9\n",
      "10\n"
     ]
    }
   ],
   "source": [
    "# while\n",
    "# 1)initialization\n",
    "# 2)condition checking\n",
    "# 3)increment / decrement\n",
    "i=1\n",
    "while i<=10:\n",
    "    print(i)\n",
    "    i=i+1"
   ]
  },
  {
   "cell_type": "code",
   "execution_count": 60,
   "id": "004c6d92",
   "metadata": {},
   "outputs": [],
   "source": [
    "i=1\n",
    "sum=0\n",
    "while i<=10:\n",
    "    sum=sum+1\n",
    "    i=i+1"
   ]
  },
  {
   "cell_type": "code",
   "execution_count": 62,
   "id": "7e6c03d6",
   "metadata": {},
   "outputs": [
    {
     "data": {
      "text/plain": [
       "10"
      ]
     },
     "execution_count": 62,
     "metadata": {},
     "output_type": "execute_result"
    }
   ],
   "source": [
    "sum"
   ]
  },
  {
   "cell_type": "code",
   "execution_count": 63,
   "id": "1c57dc2f",
   "metadata": {},
   "outputs": [],
   "source": [
    "# print table of any number using while loop"
   ]
  },
  {
   "cell_type": "code",
   "execution_count": 68,
   "id": "932e893f",
   "metadata": {},
   "outputs": [
    {
     "name": "stdout",
     "output_type": "stream",
     "text": [
      "4\n",
      "8\n",
      "12\n",
      "16\n",
      "20\n",
      "24\n",
      "28\n",
      "32\n",
      "36\n",
      "40\n"
     ]
    }
   ],
   "source": [
    "i=1\n",
    "n=int(input(\"Enter a number\"))\n",
    "while i<=10:\n",
    "    print(n*i)\n",
    "    i=i+1"
   ]
  },
  {
   "cell_type": "code",
   "execution_count": null,
   "id": "88833a20",
   "metadata": {},
   "outputs": [],
   "source": [
    "def fabb_number()"
   ]
  }
 ],
 "metadata": {
  "kernelspec": {
   "display_name": "Python 3",
   "language": "python",
   "name": "python3"
  },
  "language_info": {
   "codemirror_mode": {
    "name": "ipython",
    "version": 3
   },
   "file_extension": ".py",
   "mimetype": "text/x-python",
   "name": "python",
   "nbconvert_exporter": "python",
   "pygments_lexer": "ipython3",
   "version": "3.13.7"
  }
 },
 "nbformat": 4,
 "nbformat_minor": 5
}
