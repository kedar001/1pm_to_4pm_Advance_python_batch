{
 "cells": [
  {
   "cell_type": "markdown",
   "id": "651168a0",
   "metadata": {},
   "source": [
    "# session2"
   ]
  },
  {
   "cell_type": "markdown",
   "id": "bac9a0a5",
   "metadata": {},
   "source": [
    "- we have two types of function in python\n",
    "- 1)predefined/in-builed/bulied-function\n",
    "- 2)userdefine function"
   ]
  },
  {
   "cell_type": "markdown",
   "id": "2c924083",
   "metadata": {},
   "source": [
    "print table of any number"
   ]
  },
  {
   "cell_type": "code",
   "execution_count": 10,
   "id": "5bdcb9ff",
   "metadata": {},
   "outputs": [],
   "source": [
    "# def function_name(parameter list):\n",
    "#     logical part"
   ]
  },
  {
   "cell_type": "code",
   "execution_count": 11,
   "id": "6b9c6d3b",
   "metadata": {},
   "outputs": [],
   "source": [
    "# defining a function\n",
    "def greet():\n",
    "    print(\"welcome to etlhive\")"
   ]
  },
  {
   "cell_type": "code",
   "execution_count": 12,
   "id": "79cc7fcb",
   "metadata": {},
   "outputs": [
    {
     "name": "stdout",
     "output_type": "stream",
     "text": [
      "welcome to etlhive\n"
     ]
    }
   ],
   "source": [
    "greet()"
   ]
  },
  {
   "cell_type": "code",
   "execution_count": 13,
   "id": "26898628",
   "metadata": {},
   "outputs": [],
   "source": [
    "# fuction with parameter\n",
    "def greet1(name):\n",
    "    print(f\"welcome to etlhive {name}\")"
   ]
  },
  {
   "cell_type": "code",
   "execution_count": 14,
   "id": "9d724b3c",
   "metadata": {},
   "outputs": [
    {
     "name": "stdout",
     "output_type": "stream",
     "text": [
      "welcome to etlhive vishal\n"
     ]
    }
   ],
   "source": [
    "# calling\n",
    "greet1(\"vishal\")"
   ]
  },
  {
   "cell_type": "code",
   "execution_count": 15,
   "id": "28d3532b",
   "metadata": {},
   "outputs": [
    {
     "name": "stdout",
     "output_type": "stream",
     "text": [
      "welcome to etlhive smith\n"
     ]
    }
   ],
   "source": [
    "greet1(\"smith\")"
   ]
  },
  {
   "cell_type": "code",
   "execution_count": 16,
   "id": "611a5541",
   "metadata": {},
   "outputs": [],
   "source": [
    "# calculate multiplication"
   ]
  },
  {
   "cell_type": "code",
   "execution_count": 17,
   "id": "f0028667",
   "metadata": {},
   "outputs": [],
   "source": [
    "def cal_mul(a,b):\n",
    "    print(f\"multiplication={a*b}\")"
   ]
  },
  {
   "cell_type": "code",
   "execution_count": 20,
   "id": "37a97c6e",
   "metadata": {},
   "outputs": [
    {
     "name": "stdout",
     "output_type": "stream",
     "text": [
      "multiplication=315\n"
     ]
    }
   ],
   "source": [
    "cal_mul(45,7)"
   ]
  },
  {
   "cell_type": "code",
   "execution_count": 1,
   "id": "d4dc41f2",
   "metadata": {},
   "outputs": [],
   "source": [
    "def print_table(n):\n",
    "     for i in range(1,11):\n",
    "         print(n*i)"
   ]
  },
  {
   "cell_type": "code",
   "execution_count": 2,
   "id": "0f752e8a",
   "metadata": {},
   "outputs": [
    {
     "name": "stdout",
     "output_type": "stream",
     "text": [
      "5\n",
      "10\n",
      "15\n",
      "20\n",
      "25\n",
      "30\n",
      "35\n",
      "40\n",
      "45\n",
      "50\n"
     ]
    }
   ],
   "source": [
    "print_table(5)"
   ]
  },
  {
   "cell_type": "code",
   "execution_count": 3,
   "id": "ef4c7453",
   "metadata": {},
   "outputs": [],
   "source": [
    "lst=[3,5,7,8,9,23,45,67]"
   ]
  },
  {
   "cell_type": "code",
   "execution_count": 4,
   "id": "68c5ed81",
   "metadata": {},
   "outputs": [],
   "source": [
    "def print_square(l):\n",
    "    for i in l:\n",
    "         print(i*i)"
   ]
  },
  {
   "cell_type": "code",
   "execution_count": 5,
   "id": "e6fc653c",
   "metadata": {},
   "outputs": [
    {
     "name": "stdout",
     "output_type": "stream",
     "text": [
      "9\n",
      "25\n",
      "49\n",
      "64\n",
      "81\n",
      "529\n",
      "2025\n",
      "4489\n"
     ]
    }
   ],
   "source": [
    "print_square(lst)"
   ]
  },
  {
   "cell_type": "code",
   "execution_count": 6,
   "id": "e16d2a1d",
   "metadata": {},
   "outputs": [],
   "source": [
    "def cal_cube(n):\n",
    "    print(f\"cube of number {n} is {n*n*n}\")\n",
    "    "
   ]
  },
  {
   "cell_type": "code",
   "execution_count": 7,
   "id": "0b7406fa",
   "metadata": {},
   "outputs": [
    {
     "name": "stdout",
     "output_type": "stream",
     "text": [
      "cube of number 4 is 64\n"
     ]
    }
   ],
   "source": [
    "# calling a function\n",
    "cal_cube(4)"
   ]
  },
  {
   "cell_type": "code",
   "execution_count": 8,
   "id": "130a32bc",
   "metadata": {},
   "outputs": [
    {
     "name": "stdout",
     "output_type": "stream",
     "text": [
      "cube of number 9 is 729\n"
     ]
    }
   ],
   "source": [
    "cal_cube(9)"
   ]
  },
  {
   "cell_type": "code",
   "execution_count": 9,
   "id": "2f44d685",
   "metadata": {},
   "outputs": [],
   "source": [
    "# with return\n",
    "def cal_square(n):\n",
    "     return n*n"
   ]
  },
  {
   "cell_type": "code",
   "execution_count": 21,
   "id": "394e9764",
   "metadata": {},
   "outputs": [],
   "source": [
    "result=cal_square(5)"
   ]
  },
  {
   "cell_type": "code",
   "execution_count": 22,
   "id": "b844b3a3",
   "metadata": {},
   "outputs": [
    {
     "data": {
      "text/plain": [
       "25"
      ]
     },
     "execution_count": 22,
     "metadata": {},
     "output_type": "execute_result"
    }
   ],
   "source": [
    "result"
   ]
  },
  {
   "cell_type": "markdown",
   "id": "6a36e07f",
   "metadata": {},
   "source": [
    "# write a function in python to calculate sum of all elements inside list"
   ]
  },
  {
   "cell_type": "code",
   "execution_count": 24,
   "id": "b8d4458a",
   "metadata": {},
   "outputs": [],
   "source": [
    "lst=[1,2,3,4,5]"
   ]
  },
  {
   "cell_type": "code",
   "execution_count": 29,
   "id": "232d6ef4",
   "metadata": {},
   "outputs": [],
   "source": [
    "def sum_of_element_in_a_list(lst):\n",
    "    s=0\n",
    "    for i in lst:\n",
    "        s=s+i\n",
    "    print(f\"sum of all values in a list is {s}\")        \n",
    "        "
   ]
  },
  {
   "cell_type": "code",
   "execution_count": 31,
   "id": "d16ab80a",
   "metadata": {},
   "outputs": [
    {
     "name": "stdout",
     "output_type": "stream",
     "text": [
      "sum of all values in a list is 15\n"
     ]
    }
   ],
   "source": [
    "sum_of_element_in_a_list(lst)"
   ]
  },
  {
   "cell_type": "markdown",
   "id": "f2ab71d4",
   "metadata": {},
   "source": [
    "# write a function in python  to calulate product"
   ]
  },
  {
   "cell_type": "code",
   "execution_count": 34,
   "id": "2619da24",
   "metadata": {},
   "outputs": [],
   "source": [
    "# (Ac)^2=(AB)^2+(BC)^2\n",
    "# c^2=a^2+b^2\n",
    "# c=(a^2+b^2)^0.5\n",
    "# 4,5"
   ]
  },
  {
   "cell_type": "code",
   "execution_count": 35,
   "id": "3743f2e7",
   "metadata": {},
   "outputs": [],
   "source": [
    "def cal_hypotaneous(a,b):\n",
    "    hypotaneous=(a**2+b**2)**0.5\n",
    "    print(\"Hypotaneous of triangle=\",hypotaneous)\n"
   ]
  },
  {
   "cell_type": "code",
   "execution_count": 36,
   "id": "adb7b9a5",
   "metadata": {},
   "outputs": [
    {
     "name": "stdout",
     "output_type": "stream",
     "text": [
      "Hypotaneous of triangle= 6.4031242374328485\n"
     ]
    }
   ],
   "source": [
    "cal_hypotaneous(4,5)"
   ]
  },
  {
   "cell_type": "code",
   "execution_count": 37,
   "id": "757c42af",
   "metadata": {},
   "outputs": [],
   "source": [
    "# write a function in python which takes 3 sides and determine whether 3 sides\n",
    "# form triangle or not"
   ]
  },
  {
   "cell_type": "code",
   "execution_count": 39,
   "id": "fcd97334",
   "metadata": {},
   "outputs": [],
   "source": [
    "def verify_triangle(a,b,c):\n",
    "     if a<b+c and b<a+c and c<a+b:\n",
    "        print(\"it is forming a triangle\")\n",
    "     else:\n",
    "         (\"it is not forming a triangle\")   "
   ]
  },
  {
   "cell_type": "code",
   "execution_count": 40,
   "id": "d317b0ed",
   "metadata": {},
   "outputs": [
    {
     "name": "stdout",
     "output_type": "stream",
     "text": [
      "it is forming a triangle\n"
     ]
    }
   ],
   "source": [
    "verify_triangle(4,5,6)"
   ]
  },
  {
   "cell_type": "code",
   "execution_count": 41,
   "id": "9f653d01",
   "metadata": {},
   "outputs": [],
   "source": [
    "# write a function in python that calculate area of triangle when 3 sides are given"
   ]
  },
  {
   "cell_type": "code",
   "execution_count": 42,
   "id": "baf28f48",
   "metadata": {},
   "outputs": [],
   "source": [
    "def cal_area(a,b,c):\n",
    "    s=(a+b+c)/2\n",
    "    area=s*(s-a)*(s-b)*(s-c)**0.5\n",
    "    print(f\"Area of triangle is {area}\")\n"
   ]
  },
  {
   "cell_type": "code",
   "execution_count": 43,
   "id": "065dfe2d",
   "metadata": {},
   "outputs": [
    {
     "name": "stdout",
     "output_type": "stream",
     "text": [
      "Area of triangle is 2434.9537983296523\n"
     ]
    }
   ],
   "source": [
    "cal_area(15,17,12)"
   ]
  },
  {
   "cell_type": "code",
   "execution_count": null,
   "id": "3bffc89e",
   "metadata": {},
   "outputs": [],
   "source": []
  }
 ],
 "metadata": {
  "kernelspec": {
   "display_name": "Python 3",
   "language": "python",
   "name": "python3"
  },
  "language_info": {
   "codemirror_mode": {
    "name": "ipython",
    "version": 3
   },
   "file_extension": ".py",
   "mimetype": "text/x-python",
   "name": "python",
   "nbconvert_exporter": "python",
   "pygments_lexer": "ipython3",
   "version": "3.13.7"
  }
 },
 "nbformat": 4,
 "nbformat_minor": 5
}
