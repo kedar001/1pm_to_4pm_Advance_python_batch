{
 "cells": [
  {
   "cell_type": "markdown",
   "id": "651168a0",
   "metadata": {},
   "source": [
    "# session2"
   ]
  },
  {
   "cell_type": "code",
   "execution_count": 1,
   "id": "123bd591",
   "metadata": {},
   "outputs": [
    {
     "name": "stdout",
     "output_type": "stream",
     "text": [
      "we are going learn function in python\n"
     ]
    }
   ],
   "source": [
    "print(\"we are going learn function in python\")"
   ]
  },
  {
   "cell_type": "code",
   "execution_count": 6,
   "id": "2568dd85",
   "metadata": {},
   "outputs": [],
   "source": [
    "dict={\n",
    "    \"name\":\"Amruta\",\n",
    "    \"age\":21,\n",
    "    \"salary\":30000\n",
    "}\n"
   ]
  },
  {
   "cell_type": "code",
   "execution_count": 7,
   "id": "63b3df3c",
   "metadata": {},
   "outputs": [
    {
     "data": {
      "text/plain": [
       "{'name': 'Amruta', 'age': 21, 'salary': 30000}"
      ]
     },
     "execution_count": 7,
     "metadata": {},
     "output_type": "execute_result"
    }
   ],
   "source": [
    "dict"
   ]
  },
  {
   "cell_type": "code",
   "execution_count": null,
   "id": "bac9a0a5",
   "metadata": {},
   "outputs": [],
   "source": []
  }
 ],
 "metadata": {
  "kernelspec": {
   "display_name": "Python 3",
   "language": "python",
   "name": "python3"
  },
  "language_info": {
   "codemirror_mode": {
    "name": "ipython",
    "version": 3
   },
   "file_extension": ".py",
   "mimetype": "text/x-python",
   "name": "python",
   "nbconvert_exporter": "python",
   "pygments_lexer": "ipython3",
   "version": "3.13.7"
  }
 },
 "nbformat": 4,
 "nbformat_minor": 5
}
