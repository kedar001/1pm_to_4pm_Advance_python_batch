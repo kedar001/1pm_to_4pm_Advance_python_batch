{
 "cells": [
  {
   "cell_type": "markdown",
   "id": "ed5af182",
   "metadata": {},
   "source": [
    "# session 3"
   ]
  },
  {
   "cell_type": "code",
   "execution_count": 2,
   "id": "282a9344",
   "metadata": {},
   "outputs": [],
   "source": [
    "s1={1,2,55,66,4,4,6,9,9,9,9,65,99}"
   ]
  },
  {
   "cell_type": "code",
   "execution_count": 3,
   "id": "b2c7c844",
   "metadata": {},
   "outputs": [
    {
     "data": {
      "text/plain": [
       "{1, 2, 4, 6, 9, 55, 65, 66, 99}"
      ]
     },
     "execution_count": 3,
     "metadata": {},
     "output_type": "execute_result"
    }
   ],
   "source": [
    "s1"
   ]
  },
  {
   "cell_type": "code",
   "execution_count": null,
   "id": "67b09e4c",
   "metadata": {},
   "outputs": [],
   "source": []
  }
 ],
 "metadata": {
  "kernelspec": {
   "display_name": "Python 3",
   "language": "python",
   "name": "python3"
  },
  "language_info": {
   "codemirror_mode": {
    "name": "ipython",
    "version": 3
   },
   "file_extension": ".py",
   "mimetype": "text/x-python",
   "name": "python",
   "nbconvert_exporter": "python",
   "pygments_lexer": "ipython3",
   "version": "3.13.7"
  }
 },
 "nbformat": 4,
 "nbformat_minor": 5
}
