{
 "cells": [
  {
   "cell_type": "markdown",
   "id": "7a45f271",
   "metadata": {},
   "source": [
    "heading"
   ]
  },
  {
   "cell_type": "markdown",
   "id": "c1fd1b3f",
   "metadata": {},
   "source": [
    "# heading"
   ]
  },
  {
   "cell_type": "markdown",
   "id": "c6f26990",
   "metadata": {},
   "source": [
    "- subheading 1\n",
    "- subheading 2"
   ]
  },
  {
   "cell_type": "code",
   "execution_count": 1,
   "id": "64d75b25",
   "metadata": {},
   "outputs": [
    {
     "name": "stdout",
     "output_type": "stream",
     "text": [
      "Hello world\n"
     ]
    }
   ],
   "source": [
    "print(\"Hello world\")"
   ]
  },
  {
   "cell_type": "code",
   "execution_count": 1,
   "id": "d9d90432",
   "metadata": {},
   "outputs": [
    {
     "name": "stdout",
     "output_type": "stream",
     "text": [
      "11\n"
     ]
    }
   ],
   "source": [
    "print(5+6)"
   ]
  },
  {
   "cell_type": "code",
   "execution_count": 2,
   "id": "530cd78f",
   "metadata": {},
   "outputs": [
    {
     "name": "stdout",
     "output_type": "stream",
     "text": [
      "ETLHIVE\n"
     ]
    }
   ],
   "source": [
    "print(\"ETLHIVE\")"
   ]
  },
  {
   "cell_type": "code",
   "execution_count": 3,
   "id": "13a5a440",
   "metadata": {},
   "outputs": [],
   "source": [
    "lst=[1,4,7,8,6,5,3]"
   ]
  },
  {
   "cell_type": "code",
   "execution_count": 4,
   "id": "3c0c9b3b",
   "metadata": {},
   "outputs": [
    {
     "data": {
      "text/plain": [
       "[1, 4, 7, 8, 6, 5, 3]"
      ]
     },
     "execution_count": 4,
     "metadata": {},
     "output_type": "execute_result"
    }
   ],
   "source": [
    "lst"
   ]
  },
  {
   "cell_type": "code",
   "execution_count": null,
   "id": "0bebec8f",
   "metadata": {},
   "outputs": [],
   "source": []
  }
 ],
 "metadata": {
  "kernelspec": {
   "display_name": "Python 3",
   "language": "python",
   "name": "python3"
  },
  "language_info": {
   "codemirror_mode": {
    "name": "ipython",
    "version": 3
   },
   "file_extension": ".py",
   "mimetype": "text/x-python",
   "name": "python",
   "nbconvert_exporter": "python",
   "pygments_lexer": "ipython3",
   "version": "3.13.7"
  }
 },
 "nbformat": 4,
 "nbformat_minor": 5
}
